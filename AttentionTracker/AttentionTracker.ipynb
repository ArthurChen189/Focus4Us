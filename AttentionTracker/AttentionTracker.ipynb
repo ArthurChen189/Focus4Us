{
  "nbformat": 4,
  "nbformat_minor": 0,
  "metadata": {
    "colab": {
      "name": "Hackathon.ipynb",
      "provenance": [],
      "collapsed_sections": []
    },
    "kernelspec": {
      "name": "python3",
      "display_name": "Python 3"
    }
  },
  "cells": [
    {
      "cell_type": "markdown",
      "metadata": {
        "id": "LWVuHjEh6NzS"
      },
      "source": [
        "<h1>Attention Tracker</h1>"
      ]
    },
    {
      "cell_type": "markdown",
      "metadata": {
        "id": "KkPIm8bjqeOP"
      },
      "source": [
        "<table>\r\n",
        "<tr>\r\n",
        "<th>Eleanor</th>\r\n",
        "<th>Kevin</th>\r\n",
        "<th>A</th>\r\n",
        "<th>B</th>\r\n",
        "</tr>\r\n",
        "<tr>\r\n",
        "<td>18.33</td>\r\n",
        "<td>16.40</td>\r\n",
        "<td>25</td>\r\n",
        "<td>21</td>\r\n",
        "</tr>\r\n",
        "<tr>\r\n",
        "<td>21.31</td>\r\n",
        "<td>17.81</td>\r\n",
        "<td>23</td>\r\n",
        "<td>12</td>\r\n",
        "</tr>\r\n",
        "<tr>\r\n",
        "<td>24.36</td>\r\n",
        "<td>12.76</td>\r\n",
        "<td>18</td>\r\n",
        "<td>14</td>\r\n",
        "</tr>\r\n",
        "<tr>\r\n",
        "<td>23.34</td>\r\n",
        "<td>15.80</td>\r\n",
        "<td>22</td>\r\n",
        "<td>15</td>\r\n",
        "</tr>\r\n",
        "<tr>\r\n",
        "<td>26.09</td>\r\n",
        "<td>18.92</td>\r\n",
        "<td>21</td>\r\n",
        "<td>14</td>\r\n",
        "</tr>\r\n",
        "</table>"
      ]
    },
    {
      "cell_type": "code",
      "metadata": {
        "id": "YqDJPpeX0Tvz"
      },
      "source": [
        "import numpy as np\r\n",
        "import matplotlib.pyplot as plt"
      ],
      "execution_count": 1,
      "outputs": []
    },
    {
      "cell_type": "markdown",
      "metadata": {
        "id": "BieOwcRa4fg6"
      },
      "source": [
        "### standard deviation approach:\r\n",
        "<br>\r\n",
        "$$Z = \\frac{x-\\mu}{\\sigma}$$\r\n",
        "e.g. Z = 1\r\n",
        "<br>\r\n",
        "This indicates the instance is 1 standard deviation away from the mean"
      ]
    },
    {
      "cell_type": "code",
      "metadata": {
        "id": "BUoN-jZ90iWy"
      },
      "source": [
        "from typing import List\r\n",
        "# approach 1: standard deviation\r\n",
        "def is_distracted(arr:[int], std:float=None, mean:float=None, threshold:float=0.8)->List[float]:\r\n",
        "  '''calculates potential indices where the user starts to get distracted \r\n",
        "\r\n",
        "  Args:\r\n",
        "    arr: integer list indicates tracks the user's quizzes' scores (time in second). Its length must be greater than 1, otherwise it returns -1\r\n",
        "    std: standard deviation of the list\r\n",
        "    mean: mean/average of the list\r\n",
        "\r\n",
        "  Returns:\r\n",
        "    z_std: float list indicates how different each successive number is\r\n",
        "    mask: integer list indicates if there is an improvement (the user finishes the quiz faster) for the corresponding indices (1 represents an decrease in concentration)\r\n",
        "    std: standard deviation of the list\r\n",
        "    mean: mean/average of the list\r\n",
        "  '''\r\n",
        "  if len(arr) < 2: return -1\r\n",
        "  r_sum = np.abs([arr[i]-arr[i+1] for i in range(len(arr)-1)])\r\n",
        "  std = np.std(r_sum) if std is None else std\r\n",
        "  mean = np.mean(r_sum) if mean is None else mean\r\n",
        "  z_scores = (r_sum-mean)/std\r\n",
        "  resultant_indices = [i for i in range(len(z_scores)) if z_scores[i] >= threshold]\r\n",
        "  return z_scores, std, mean, resultant_indices"
      ],
      "execution_count": 2,
      "outputs": []
    },
    {
      "cell_type": "code",
      "metadata": {
        "id": "lNYKZq-E6fZP"
      },
      "source": [
        "arr = [18.33, 21.31, 24.36, 23.34, 26.09]\r\n",
        "arr2 = [16.40, 17.81, 12.76, 15.80, 18.92]"
      ],
      "execution_count": 3,
      "outputs": []
    },
    {
      "cell_type": "code",
      "metadata": {
        "colab": {
          "base_uri": "https://localhost:8080/"
        },
        "id": "ur4MRsRK7iTP",
        "outputId": "7700a5be-f69b-4519-efb9-d004feeb493b"
      },
      "source": [
        "z1,std1,mean1,indices1 = is_distracted(arr)\r\n",
        "print(f\"z1: {z1}\\nstd1: {std1}\\nmean1: {mean1}\\nindices1: {indices1}\")\r\n",
        "\r\n",
        "print(\"---------------------------------------------\")\r\n",
        "\r\n",
        "z2,std2,mean2,indices2 = is_distracted(arr2)\r\n",
        "print(f\"z2: {z2}\\nstd2: {std2}\\nmean2: {mean2}\\nindices2: {indices2}\")"
      ],
      "execution_count": 4,
      "outputs": [
        {
          "output_type": "stream",
          "text": [
            "z1: [ 0.63622654  0.72025646 -1.71661122  0.36012823]\n",
            "std1: 0.8330366138411929\n",
            "mean1: 2.45\n",
            "indices1: []\n",
            "---------------------------------------------\n",
            "z2: [-1.35331308  1.46964371 -0.08918682 -0.02714382]\n",
            "std2: 1.289428167832547\n",
            "mean2: 3.1550000000000002\n",
            "indices2: [1]\n"
          ],
          "name": "stdout"
        }
      ]
    },
    {
      "cell_type": "code",
      "metadata": {
        "colab": {
          "base_uri": "https://localhost:8080/",
          "height": 241
        },
        "id": "LB9Rl3RX7juJ",
        "outputId": "0fa1b7ad-e272-45fc-cb29-f1bd94fcdf3c"
      },
      "source": [
        "plt.figure(figsize=[5,3])\r\n",
        "plt.title(\"z scores1 over time\")\r\n",
        "plt.xlabel(\"time\")\r\n",
        "plt.ylabel(\"z scores\")\r\n",
        "plt.plot(np.arange(len(z1)),z1);"
      ],
      "execution_count": 5,
      "outputs": [
        {
          "output_type": "display_data",
          "data": {
            "image/png": "[encoded data removed]",
            "text/plain": [
              "<Figure size 360x216 with 1 Axes>"
            ]
          },
          "metadata": {
            "tags": [],
            "needs_background": "light"
          }
        }
      ]
    }
  ]
}